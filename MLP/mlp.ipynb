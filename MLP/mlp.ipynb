{
 "cells": [
  {
   "cell_type": "code",
   "execution_count": 22,
   "id": "4a5d23f8",
   "metadata": {},
   "outputs": [],
   "source": [
    "import string\n",
    "import torch\n",
    "import torch.nn.functional as F\n",
    "import matplotlib.pyplot as plt\n",
    "%matplotlib inline"
   ]
  },
  {
   "cell_type": "code",
   "execution_count": 2,
   "id": "2a4c43e5",
   "metadata": {},
   "outputs": [],
   "source": [
    "with open('../names.txt') as f:\n",
    "    names = f.read().splitlines()"
   ]
  },
  {
   "cell_type": "code",
   "execution_count": 4,
   "id": "a735975f",
   "metadata": {},
   "outputs": [
    {
     "data": {
      "text/plain": [
       "32033"
      ]
     },
     "execution_count": 4,
     "metadata": {},
     "output_type": "execute_result"
    }
   ],
   "source": [
    "len(names)"
   ]
  },
  {
   "cell_type": "markdown",
   "id": "b71c3195",
   "metadata": {},
   "source": [
    "Problem with bigrams is that we were only looking the previous character to predict the next character, the more characters we look back, the bigger the matrix gets, with 2 characters then 27**2 sized matrix.\n",
    "\n",
    "Instead we use this:\n",
    "\n",
    "\n",
    "# Paper:\n",
    "\n",
    "## A Neural Probabilistic Language Model: [paper](https://www.jmlr.org/papers/volume3/bengio03a/bengio03a.pdf)\n",
    "\n",
    "\n",
    "in the paper, they've 17000 words in the vocabulary and for each word they assign a feature vector of dimension (30,). So all the 17000 words are embedded into a 30-dimensional space.\n",
    "\n",
    "Initially the feature vectors are random and on training the feature vectors are updated...words with similar meanings are closer to each other in the vector space and converse is true.\n",
    "\n",
    "Modelling approach: maximize log likelihood.\n",
    "\n",
    "### Model Generalization: example (from the paper):\n",
    "\n",
    "In the training set we might have a sentence like \"the cat is walking in the bedroom\", \"the dog is running in a room\". \n",
    "\n",
    "Due to the feature vectors, (a,the), (cat,dog), (room,bedroom), (is,was), (running,walking) might be closer together in the embedding space.\n",
    "\n",
    "This allows the model to predict stuff like \"the dog is walking in a ________\" -> bedroom, \"a cat is running the the _______\" -> room\n",
    "\n",
    "\n",
    "### Diagram\n",
    "\n",
    "input: 3 previous words, output: 4th word. For each word there's a one-hot index vector, and then there's the embedding vector 17000X30. So a dot product will result in the feature vector of that word.\n",
    "\n",
    "```python\n",
    "# with 10 words vocab and 3-dimensional embedding feature vector\n",
    "x = torch.tensor([0,0,1,0,0,0,0,0,0,0]) # word index vector\n",
    "y = torch.randn(10,3) # embedding vector\n",
    "y[2,:], x.float() @ y\n",
    "\n",
    ">>> (tensor([1.2606, 0.1792, 0.1153]), tensor([1.2606, 0.1792, 0.1153]))\n",
    "```\n",
    "\n",
    "so for the 3 words, 90 neurons: 30 from each word\n",
    "\n",
    "hidden layer: size is the hyperparameter, fully connected to the 90 input neurons with tanh activation.\n",
    "\n",
    "output layer: (17000,) layer with softmax which will give probability distribution for the next word in sequence. with argmax(output), we can get the index of the next word. \n",
    "\n",
    "\n",
    "\n",
    "![model](https://i.imgur.com/Yjag5Ud.png)\n"
   ]
  },
  {
   "cell_type": "markdown",
   "id": "60b655cc",
   "metadata": {},
   "source": [
    "## making the dataset"
   ]
  },
  {
   "cell_type": "code",
   "execution_count": 20,
   "id": "4e3196d0",
   "metadata": {
    "scrolled": true
   },
   "outputs": [
    {
     "data": {
      "text/plain": [
       "['emma', 'olivia', 'ava', 'isabella', 'sophia', 'charlotte', 'mia', 'amelia']"
      ]
     },
     "execution_count": 20,
     "metadata": {},
     "output_type": "execute_result"
    }
   ],
   "source": [
    "names[:8]"
   ]
  },
  {
   "cell_type": "code",
   "execution_count": 29,
   "id": "32cda821",
   "metadata": {},
   "outputs": [
    {
     "name": "stdout",
     "output_type": "stream",
     "text": [
      "{'.': 0, 'a': 1, 'b': 2, 'c': 3, 'd': 4, 'e': 5, 'f': 6, 'g': 7, 'h': 8, 'i': 9, 'j': 10, 'k': 11, 'l': 12, 'm': 13, 'n': 14, 'o': 15, 'p': 16, 'q': 17, 'r': 18, 's': 19, 't': 20, 'u': 21, 'v': 22, 'w': 23, 'x': 24, 'y': 25, 'z': 26} \n",
      "\n",
      "{0: '.', 1: 'a', 2: 'b', 3: 'c', 4: 'd', 5: 'e', 6: 'f', 7: 'g', 8: 'h', 9: 'i', 10: 'j', 11: 'k', 12: 'l', 13: 'm', 14: 'n', 15: 'o', 16: 'p', 17: 'q', 18: 'r', 19: 's', 20: 't', 21: 'u', 22: 'v', 23: 'w', 24: 'x', 25: 'y', 26: 'z'}\n"
     ]
    }
   ],
   "source": [
    "vocab = ['.'] + list(string.ascii_lowercase)\n",
    "s_i = {s:i for i,s in enumerate(vocab)}\n",
    "i_s = {i:s for s,i in s_i.items()}\n",
    "print(s_i,'\\n')\n",
    "print(i_s)"
   ]
  },
  {
   "cell_type": "code",
   "execution_count": 31,
   "id": "d1d448bd",
   "metadata": {},
   "outputs": [
    {
     "name": "stdout",
     "output_type": "stream",
     "text": [
      "emma\n",
      "... --> e\n",
      "..e --> m\n",
      ".em --> m\n",
      "emm --> a\n",
      "mma --> .\n",
      "olivia\n",
      "... --> o\n",
      "..o --> l\n",
      ".ol --> i\n",
      "oli --> v\n",
      "liv --> i\n",
      "ivi --> a\n",
      "via --> .\n",
      "ava\n",
      "... --> a\n",
      "..a --> v\n",
      ".av --> a\n",
      "ava --> .\n",
      "isabella\n",
      "... --> i\n",
      "..i --> s\n",
      ".is --> a\n",
      "isa --> b\n",
      "sab --> e\n",
      "abe --> l\n",
      "bel --> l\n",
      "ell --> a\n",
      "lla --> .\n",
      "sophia\n",
      "... --> s\n",
      "..s --> o\n",
      ".so --> p\n",
      "sop --> h\n",
      "oph --> i\n",
      "phi --> a\n",
      "hia --> .\n"
     ]
    }
   ],
   "source": [
    "# dataset\n",
    "\n",
    "block_size = 3 # length of context: no. of characters we use to predict the next\n",
    "\n",
    "X, Y = [], []\n",
    "for w in names[:5]:\n",
    "    print(w)\n",
    "    context = [0] * block_size\n",
    "    for ch in w + '.':\n",
    "        ix = s_i[ch]\n",
    "        X.append(context)\n",
    "        Y.append(ix)\n",
    "        print(''.join(i_s[i] for i in context), '-->', i_s[ix])\n",
    "        context = context[1:] + [ix] # crop and append, like a rolling window\n",
    "        \n",
    "X = torch.tensor(X)\n",
    "Y = torch.tensor(Y)"
   ]
  },
  {
   "cell_type": "code",
   "execution_count": 32,
   "id": "95f43655",
   "metadata": {},
   "outputs": [
    {
     "data": {
      "text/plain": [
       "(torch.Size([32, 3]), torch.int64, torch.Size([32]), torch.int64)"
      ]
     },
     "execution_count": 32,
     "metadata": {},
     "output_type": "execute_result"
    }
   ],
   "source": [
    "X.shape, X.dtype, Y.shape, Y.dtype"
   ]
  },
  {
   "cell_type": "code",
   "execution_count": 44,
   "id": "9ddb50c6",
   "metadata": {},
   "outputs": [
    {
     "data": {
      "text/plain": [
       "torch.Size([27, 2])"
      ]
     },
     "execution_count": 44,
     "metadata": {},
     "output_type": "execute_result"
    }
   ],
   "source": [
    "# embedding look-up table C: 27 vocab -> 2-dimensional space\n",
    "\n",
    "C = torch.randn((27,2))\n",
    "C.shape"
   ]
  },
  {
   "cell_type": "code",
   "execution_count": 52,
   "id": "c16bb5bf",
   "metadata": {},
   "outputs": [
    {
     "data": {
      "text/plain": [
       "(tensor([-0.2026,  0.9932]), tensor([-0.2026,  0.9932]))"
      ]
     },
     "execution_count": 52,
     "metadata": {},
     "output_type": "execute_result"
    }
   ],
   "source": [
    "C[5], F.one_hot(torch.tensor(5), num_classes=27).float() @ C\n",
    "# we'll rather use indexing"
   ]
  },
  {
   "cell_type": "code",
   "execution_count": 55,
   "id": "115f8a75",
   "metadata": {},
   "outputs": [
    {
     "data": {
      "text/plain": [
       "tensor([[-0.2026,  0.9932],\n",
       "        [-1.7684, -0.0758],\n",
       "        [-0.0714, -0.4102]])"
      ]
     },
     "execution_count": 55,
     "metadata": {},
     "output_type": "execute_result"
    }
   ],
   "source": [
    "C[torch.tensor([5,6,7])] # index with a vector"
   ]
  },
  {
   "cell_type": "markdown",
   "id": "95f57e25",
   "metadata": {},
   "source": [
    "**index with a matrix, hence for each of the 3 chars in the context, we get their respective feature vectors**"
   ]
  },
  {
   "cell_type": "code",
   "execution_count": 64,
   "id": "c1dca581",
   "metadata": {},
   "outputs": [
    {
     "data": {
      "text/plain": [
       "tensor([[-0.7032,  1.0180],\n",
       "        [-0.7032,  1.0180],\n",
       "        [-0.2026,  0.9932]])"
      ]
     },
     "execution_count": 64,
     "metadata": {},
     "output_type": "execute_result"
    }
   ],
   "source": [
    "C[X[1]]"
   ]
  },
  {
   "cell_type": "code",
   "execution_count": 62,
   "id": "a6e0dd1b",
   "metadata": {},
   "outputs": [
    {
     "data": {
      "text/plain": [
       "torch.Size([32, 3, 2])"
      ]
     },
     "execution_count": 62,
     "metadata": {},
     "output_type": "execute_result"
    }
   ],
   "source": [
    "C[X].shape"
   ]
  },
  {
   "cell_type": "code",
   "execution_count": 65,
   "id": "505209fb",
   "metadata": {},
   "outputs": [
    {
     "data": {
      "text/plain": [
       "(tensor(1), tensor([ 0.4056, -0.9039]), tensor([ 0.4056, -0.9039]))"
      ]
     },
     "execution_count": 65,
     "metadata": {},
     "output_type": "execute_result"
    }
   ],
   "source": [
    "# verify\n",
    "X[13,2], C[X][13,2], C[1]"
   ]
  },
  {
   "cell_type": "code",
   "execution_count": 67,
   "id": "7d3c8642",
   "metadata": {},
   "outputs": [],
   "source": [
    "emb = C[X]"
   ]
  },
  {
   "cell_type": "markdown",
   "id": "3d1349f7",
   "metadata": {},
   "source": [
    "**time to construct the hidden layer**"
   ]
  },
  {
   "cell_type": "code",
   "execution_count": 69,
   "id": "074bb3e6",
   "metadata": {},
   "outputs": [],
   "source": [
    "hidden_dim = 100\n",
    "\n",
    "W1 = torch.randn((6,hidden_dim))\n",
    "b1 = torch.randn(hidden_dim)"
   ]
  },
  {
   "cell_type": "markdown",
   "id": "4bed5dfd",
   "metadata": {},
   "source": [
    "**We cant do**\n",
    "\n",
    "```python\n",
    "emb @ W1 + b1 # since the embeddings are stacked as [3,2]\n",
    "```\n",
    "\n",
    "##### transforming [32,3,2] -> [32,6]\n",
    "\n",
    "multiple methods:\n",
    "\n",
    "- CONCAT: issue: cant generalize if 5 dimensional then we've to do till 4.\n",
    "```python\n",
    "    print('cat:',emb[:,0,:].shape, emb[:,1,:].shape, emb[:,2,:].shape)\n",
    "    print(torch.cat([emb[:,0,:],emb[:,1,:],emb[:,2,:]], 1).shape)\n",
    "    >>> cat: torch.Size([32, 2]) torch.Size([32, 2]) torch.Size([32, 2])\n",
    "    >>> torch.Size([32, 6])\n",
    "```\n",
    "\n",
    "- UNBIND: removes a tensor dimension, returns a list.\n",
    "```python\n",
    "    print('cat, unbind:', torch.cat(torch.unbind(emb, 1), 1).shape)\n",
    "    >>> cat, unbind: torch.Size([32, 6])\n",
    "```\n",
    "\n",
    "- VIEW: reshape\n",
    "```python\n",
    "    print('view:',emb.view(32,6).shape)\n",
    "    >>> view: torch.Size([32, 6])\n",
    "```\n",
    "\n",
    "View is the best since it doesn't create a new tensor unlike cat and unbind and tensor representation changes internally.\n",
    "\n",
    "also, instead of doing `.view(32,6)`, we can do `.view(emb.shape[0],6)` or `.view(-1,6)`"
   ]
  },
  {
   "cell_type": "code",
   "execution_count": 92,
   "id": "fad9ef71",
   "metadata": {},
   "outputs": [
    {
     "data": {
      "text/plain": [
       "torch.Size([32, 100])"
      ]
     },
     "execution_count": 92,
     "metadata": {},
     "output_type": "execute_result"
    }
   ],
   "source": [
    "h = torch.tanh(emb.view(-1,6) @ W1 + b1)\n",
    "h.shape"
   ]
  },
  {
   "cell_type": "code",
   "execution_count": 94,
   "id": "eb452632",
   "metadata": {},
   "outputs": [],
   "source": [
    "W2 = torch.randn((hidden_dim, 27))\n",
    "b2 = torch.randn(27)"
   ]
  },
  {
   "cell_type": "code",
   "execution_count": 95,
   "id": "656569d9",
   "metadata": {},
   "outputs": [],
   "source": [
    "logits = h @ W2 + b2"
   ]
  },
  {
   "cell_type": "code",
   "execution_count": 96,
   "id": "89ff9fce",
   "metadata": {},
   "outputs": [
    {
     "data": {
      "text/plain": [
       "torch.Size([32, 27])"
      ]
     },
     "execution_count": 96,
     "metadata": {},
     "output_type": "execute_result"
    }
   ],
   "source": [
    "logits.shape"
   ]
  },
  {
   "cell_type": "code",
   "execution_count": 98,
   "id": "2700ab88",
   "metadata": {},
   "outputs": [
    {
     "data": {
      "text/plain": [
       "(torch.Size([32, 27]),\n",
       " tensor([1.0000, 1.0000, 1.0000, 1.0000, 1.0000, 1.0000, 1.0000, 1.0000, 1.0000,\n",
       "         1.0000, 1.0000, 1.0000, 1.0000, 1.0000, 1.0000, 1.0000, 1.0000, 1.0000,\n",
       "         1.0000, 1.0000, 1.0000, 1.0000, 1.0000, 1.0000, 1.0000, 1.0000, 1.0000,\n",
       "         1.0000, 1.0000, 1.0000, 1.0000, 1.0000]))"
      ]
     },
     "execution_count": 98,
     "metadata": {},
     "output_type": "execute_result"
    }
   ],
   "source": [
    "counts = logits.exp()\n",
    "prob = counts / counts.sum(1, keepdims=True)\n",
    "prob.shape, prob.sum(1)"
   ]
  },
  {
   "cell_type": "code",
   "execution_count": 99,
   "id": "bafc0917",
   "metadata": {},
   "outputs": [
    {
     "data": {
      "text/plain": [
       "tensor([ 5, 13, 13,  1,  0, 15, 12,  9, 22,  9,  1,  0,  1, 22,  1,  0,  9, 19,\n",
       "         1,  2,  5, 12, 12,  1,  0, 19, 15, 16,  8,  9,  1,  0])"
      ]
     },
     "execution_count": 99,
     "metadata": {},
     "output_type": "execute_result"
    }
   ],
   "source": [
    "Y"
   ]
  },
  {
   "cell_type": "code",
   "execution_count": 103,
   "id": "232e3555",
   "metadata": {},
   "outputs": [
    {
     "data": {
      "text/plain": [
       "tensor(18.6606)"
      ]
     },
     "execution_count": 103,
     "metadata": {},
     "output_type": "execute_result"
    }
   ],
   "source": [
    "# now for probs for each character, we get the target value\n",
    "loss = -prob[torch.arange(32), Y].log().mean()\n",
    "loss"
   ]
  },
  {
   "cell_type": "code",
   "execution_count": 152,
   "id": "d42fd105",
   "metadata": {},
   "outputs": [],
   "source": [
    "# with a generator and seed\n",
    "seed = 2147483647\n",
    "g = torch.Generator().manual_seed(seed)\n",
    "\n",
    "hidden_dim = 100\n",
    "C = torch.randn((27,2), generator=g)\n",
    "W1 = torch.randn((6,hidden_dim), generator=g)\n",
    "b1 = torch.randn(hidden_dim, generator=g)\n",
    "W2 = torch.randn((hidden_dim,27), generator=g)\n",
    "b2 = torch.randn(27, generator=g)\n",
    "\n",
    "parameters = [C,W1,b1,W2,b2]"
   ]
  },
  {
   "cell_type": "code",
   "execution_count": 153,
   "id": "5ab6880f",
   "metadata": {},
   "outputs": [
    {
     "data": {
      "text/plain": [
       "3481"
      ]
     },
     "execution_count": 153,
     "metadata": {},
     "output_type": "execute_result"
    }
   ],
   "source": [
    "# num parameters\n",
    "sum(p.nelement() for p in parameters)"
   ]
  },
  {
   "cell_type": "markdown",
   "id": "c4293479",
   "metadata": {},
   "source": [
    "**Calculating Loss**\n",
    "\n",
    "for educational purposes only: \n",
    "\n",
    "```python\n",
    "counts = logits.exp()\n",
    "prob = counts / counts.sum(1, keepdims=True)\n",
    "loss = -prob[torch.arange(32), Y].log().mean()\n",
    "```\n",
    "reason:\n",
    "- lot of intermediate tensors\n",
    "- longer and complex backprop due to more tensors\n",
    "- numerically well behaved\n",
    "\n",
    "```python\n",
    "counts = torch.tensor([-2,-3,0,5]).exp()\n",
    "prob = counts / counts.sum()\n",
    "print(counts, prob)\n",
    "counts = torch.tensor([-100,-3,0,5]).exp()\n",
    "prob = counts / counts.sum()\n",
    "print(counts, prob)\n",
    "counts = torch.tensor([-100,-3,0,100]).exp()\n",
    "prob = counts / counts.sum()\n",
    "print(counts, prob)\n",
    ">>> tensor([1.3534e-01, 4.9787e-02, 1.0000e+00, 1.4841e+02]) tensor([9.0466e-04, 3.3281e-04, 6.6846e-03, 9.9208e-01])\n",
    ">>> tensor([3.7835e-44, 4.9787e-02, 1.0000e+00, 1.4841e+02]) tensor([0.0000e+00, 3.3311e-04, 6.6906e-03, 9.9298e-01])\n",
    ">>> tensor([3.7835e-44, 4.9787e-02, 1.0000e+00,        inf]) tensor([0., 0., 0., nan])\n",
    "```\n",
    "\n",
    "- also any offset will produce same probabilities due to exp()\n",
    "\n",
    "```python\n",
    "counts = torch.tensor([-2,-3,0,5]).exp()\n",
    "prob = counts / counts.sum()\n",
    "print(prob)\n",
    "counts = (torch.tensor([-2,-3,0,5]) - 10).exp() # -10 offset\n",
    "prob = counts / counts.sum()\n",
    "print(prob)\n",
    ">>> tensor([9.0466e-04, 3.3281e-04, 6.6846e-03, 9.9208e-01])\n",
    ">>> tensor([9.0466e-04, 3.3281e-04, 6.6846e-03, 9.9208e-01])\n",
    "```\n",
    "\n",
    "- what `F.cross_entropy(preds,trues)` does is subtracts the largest value in the tensor, which gives usable probabilities"
   ]
  },
  {
   "cell_type": "code",
   "execution_count": 154,
   "id": "517f3006",
   "metadata": {},
   "outputs": [],
   "source": [
    "for p in parameters:\n",
    "    p.requires_grad = True"
   ]
  },
  {
   "cell_type": "code",
   "execution_count": 155,
   "id": "0153702b",
   "metadata": {},
   "outputs": [
    {
     "data": {
      "text/plain": [
       "tensor(17.7697, grad_fn=<NllLossBackward0>)"
      ]
     },
     "execution_count": 155,
     "metadata": {},
     "output_type": "execute_result"
    }
   ],
   "source": [
    "# forward pass:\n",
    "emb = C[X]\n",
    "h = torch.tanh(emb.view(-1,6) @ W1 + b1)\n",
    "logits = h @ W2 + b2\n",
    "loss = F.cross_entropy(logits, Y)\n",
    "loss"
   ]
  },
  {
   "cell_type": "code",
   "execution_count": 156,
   "id": "e7321f4a",
   "metadata": {},
   "outputs": [],
   "source": [
    "# backward pass\n",
    "for p in parameters:\n",
    "    p.grad = None\n",
    "    \n",
    "loss.backward()\n",
    "\n",
    "# optimize\n",
    "for p in parameters:\n",
    "    p.data += -0.1 * p.grad"
   ]
  },
  {
   "cell_type": "markdown",
   "id": "a466f546",
   "metadata": {},
   "source": [
    "**Training Loop**\n",
    "\n",
    "here we have only 32 examples, hence we're technically overfitting a batch of 32\n",
    "\n",
    "if we use all names we'll have 200k+ examples and we'll be forward and backward passing through all of them at once which takes a lot of compute time\n",
    "\n",
    "instead what we do is use mini-batches of data -- randomly selected and compute passes on those"
   ]
  },
  {
   "cell_type": "code",
   "execution_count": 158,
   "id": "cc80de85",
   "metadata": {},
   "outputs": [
    {
     "name": "stdout",
     "output_type": "stream",
     "text": [
      "loss at epoch 1:\t 17.76971435546875\n",
      "loss at epoch 2:\t 13.656401634216309\n",
      "loss at epoch 3:\t 11.298768997192383\n",
      "loss at epoch 4:\t 9.452457427978516\n",
      "loss at epoch 5:\t 7.984262466430664\n",
      "loss at epoch 6:\t 6.891321182250977\n",
      "loss at epoch 7:\t 6.100014686584473\n",
      "loss at epoch 8:\t 5.452036380767822\n",
      "loss at epoch 9:\t 4.898151874542236\n",
      "loss at epoch 10:\t 4.414664268493652\n"
     ]
    }
   ],
   "source": [
    "seed = 2147483647\n",
    "g = torch.Generator().manual_seed(seed)\n",
    "\n",
    "hidden_dim = 100\n",
    "C = torch.randn((27,2), generator=g)\n",
    "W1 = torch.randn((6,hidden_dim), generator=g)\n",
    "b1 = torch.randn(hidden_dim, generator=g)\n",
    "W2 = torch.randn((hidden_dim,27), generator=g)\n",
    "b2 = torch.randn(27, generator=g)\n",
    "\n",
    "parameters = [C,W1,b1,W2,b2]\n",
    "for p in parameters:\n",
    "    p.requires_grad = True\n",
    "\n",
    "epochs = 10\n",
    "lr = 0.1\n",
    "\n",
    "losses = []\n",
    "\n",
    "for epoch in range(epochs):\n",
    "    \n",
    "    # forward pass\n",
    "    \n",
    "    emb = C[X]\n",
    "    h = torch.tanh(emb.view(-1,6) @ W1 + b1)\n",
    "    logits = h @ W2 + b2\n",
    "    \n",
    "    loss = F.cross_entropy(logits, Y)\n",
    "    losses.append(loss)\n",
    "    \n",
    "    for p in parameters:\n",
    "        p.grad = None\n",
    "        \n",
    "    # calc gradients\n",
    "    loss.backward()\n",
    "    \n",
    "    # optimize\n",
    "    for p in parameters:\n",
    "        p.data += -lr * p.grad\n",
    "        \n",
    "    print(f\"loss at epoch {epoch+1}:\\t {loss.item()}\")"
   ]
  },
  {
   "cell_type": "markdown",
   "id": "3b9deaa0",
   "metadata": {},
   "source": [
    "---\n",
    "\n",
    "**ON ALL EXAMPLES! with mini-batches**"
   ]
  },
  {
   "cell_type": "code",
   "execution_count": 161,
   "id": "c8420602",
   "metadata": {},
   "outputs": [],
   "source": [
    "# dataset\n",
    "\n",
    "block_size = 3 # length of context: no. of characters we use to predict the next\n",
    "\n",
    "X, Y = [], []\n",
    "for w in names:\n",
    "    context = [0] * block_size\n",
    "    for ch in w + '.':\n",
    "        ix = s_i[ch]\n",
    "        X.append(context)\n",
    "        Y.append(ix)\n",
    "        context = context[1:] + [ix] # crop and append, like a rolling window\n",
    "        \n",
    "X = torch.tensor(X)\n",
    "Y = torch.tensor(Y)"
   ]
  },
  {
   "cell_type": "code",
   "execution_count": 162,
   "id": "f9a504f4",
   "metadata": {},
   "outputs": [
    {
     "data": {
      "text/plain": [
       "(torch.Size([228146, 3]), torch.Size([228146]))"
      ]
     },
     "execution_count": 162,
     "metadata": {},
     "output_type": "execute_result"
    }
   ],
   "source": [
    "X.shape, Y.shape"
   ]
  },
  {
   "cell_type": "code",
   "execution_count": 163,
   "id": "2be9c8e2",
   "metadata": {},
   "outputs": [],
   "source": [
    "C = torch.randn((27,2))"
   ]
  },
  {
   "cell_type": "code",
   "execution_count": 167,
   "id": "ef70782a",
   "metadata": {},
   "outputs": [],
   "source": [
    "seed = 2147483647\n",
    "hidden_dim = 100"
   ]
  },
  {
   "cell_type": "code",
   "execution_count": 184,
   "id": "c1bca728",
   "metadata": {},
   "outputs": [
    {
     "name": "stdout",
     "output_type": "stream",
     "text": [
      "loss at epoch 10:\t 11.902249336242676\n",
      "loss at epoch 20:\t 9.685315132141113\n",
      "loss at epoch 30:\t 7.424014091491699\n",
      "loss at epoch 40:\t 5.26215934753418\n",
      "loss at epoch 50:\t 4.274938106536865\n",
      "loss at epoch 60:\t 5.513725280761719\n",
      "loss at epoch 70:\t 4.729066848754883\n",
      "loss at epoch 80:\t 4.774211406707764\n",
      "loss at epoch 90:\t 3.6037914752960205\n",
      "loss at epoch 100:\t 4.417478561401367\n",
      "\n",
      "Total Loss: 3.749563217163086\n"
     ]
    }
   ],
   "source": [
    "g = torch.Generator().manual_seed(seed)\n",
    "C = torch.randn((27,2), generator=g)\n",
    "W1 = torch.randn((6,hidden_dim), generator=g)\n",
    "b1 = torch.randn(hidden_dim, generator=g)\n",
    "W2 = torch.randn((hidden_dim,27), generator=g)\n",
    "b2 = torch.randn(27, generator=g)\n",
    "\n",
    "parameters = [C,W1,b1,W2,b2]\n",
    "for p in parameters:\n",
    "    p.requires_grad=True\n",
    "    \n",
    "# ------------\n",
    "\n",
    "epochs = 100\n",
    "lr = 0.1\n",
    "batch_size = 32\n",
    "losses = []\n",
    "\n",
    "for epoch in range(1,epochs+1):\n",
    "    \n",
    "    # mini-batch creation\n",
    "    ix = torch.randint(0,X.shape[0], (batch_size,))\n",
    "    \n",
    "    # forward pass\n",
    "    \n",
    "    emb = C[X[ix]]\n",
    "    h = torch.tanh(emb.view(-1,6) @ W1 + b1)\n",
    "    logits = h @ W2 + b2\n",
    "    \n",
    "    loss = F.cross_entropy(logits, Y[ix])\n",
    "    losses.append(loss.item())\n",
    "    \n",
    "    for p in parameters:\n",
    "        p.grad = None\n",
    "        \n",
    "    # calc gradients\n",
    "    loss.backward()\n",
    "    \n",
    "    # optimize\n",
    "    for p in parameters:\n",
    "        p.data += -lr * p.grad\n",
    "        \n",
    "    if epoch%(epochs//10) == 0:\n",
    "        print(f\"loss at epoch {epoch}:\\t {loss.item()}\")\n",
    "        \n",
    "# --- total loss\n",
    "emb = C[X]\n",
    "h = torch.tanh(emb.view(-1,6) @ W1 + b1)\n",
    "logits = h @ W2 + b2\n",
    "loss = F.cross_entropy(logits, Y)\n",
    "print(\"\\nTotal Loss:\",loss.item())"
   ]
  },
  {
   "cell_type": "code",
   "execution_count": 185,
   "id": "af10e8a4",
   "metadata": {},
   "outputs": [
    {
     "data": {
      "text/plain": [
       "[<matplotlib.lines.Line2D at 0x7f316c497910>]"
      ]
     },
     "execution_count": 185,
     "metadata": {},
     "output_type": "execute_result"
    },
    {
     "data": {
      "image/png": "[encoded data removed]",
      "text/plain": [
       "<Figure size 432x288 with 1 Axes>"
      ]
     },
     "metadata": {
      "needs_background": "light"
     },
     "output_type": "display_data"
    }
   ],
   "source": [
    "plt.plot(losses)"
   ]
  },
  {
   "cell_type": "markdown",
   "id": "a4eebc04",
   "metadata": {},
   "source": [
    "**Determining Learning Rate**"
   ]
  },
  {
   "cell_type": "code",
   "execution_count": 186,
   "id": "432fdba0",
   "metadata": {},
   "outputs": [],
   "source": [
    "lr_exp = torch.linspace(-3,0,1000)\n",
    "lrs = 10**lr_exp # exponential spacing between LRs"
   ]
  },
  {
   "cell_type": "code",
   "execution_count": 188,
   "id": "030d565b",
   "metadata": {},
   "outputs": [
    {
     "name": "stdout",
     "output_type": "stream",
     "text": [
      "loss at epoch 100:\t 15.775469779968262\n",
      "loss at epoch 200:\t 15.770120620727539\n",
      "loss at epoch 300:\t 7.7148566246032715\n",
      "loss at epoch 400:\t 7.445488929748535\n",
      "loss at epoch 500:\t 5.322014808654785\n",
      "loss at epoch 600:\t 4.883089542388916\n",
      "loss at epoch 700:\t 3.1109085083007812\n",
      "loss at epoch 800:\t 3.8277764320373535\n",
      "loss at epoch 900:\t 4.733553409576416\n",
      "loss at epoch 1000:\t 8.40949535369873\n",
      "\n",
      "Total Loss: 7.846222877502441\n"
     ]
    }
   ],
   "source": [
    "g = torch.Generator().manual_seed(seed)\n",
    "C = torch.randn((27,2), generator=g)\n",
    "W1 = torch.randn((6,hidden_dim), generator=g)\n",
    "b1 = torch.randn(hidden_dim, generator=g)\n",
    "W2 = torch.randn((hidden_dim,27), generator=g)\n",
    "b2 = torch.randn(27, generator=g)\n",
    "\n",
    "parameters = [C,W1,b1,W2,b2]\n",
    "for p in parameters:\n",
    "    p.requires_grad=True\n",
    "    \n",
    "# ------------\n",
    "\n",
    "epochs = 1000\n",
    "batch_size = 32\n",
    "losses = []\n",
    "\n",
    "for epoch in range(1,epochs+1):\n",
    "    \n",
    "    # mini-batch creation\n",
    "    ix = torch.randint(0,X.shape[0], (batch_size,))\n",
    "    \n",
    "    # forward pass\n",
    "    \n",
    "    emb = C[X[ix]]\n",
    "    h = torch.tanh(emb.view(-1,6) @ W1 + b1)\n",
    "    logits = h @ W2 + b2\n",
    "    \n",
    "    loss = F.cross_entropy(logits, Y[ix])\n",
    "    losses.append(loss.item())\n",
    "    \n",
    "    for p in parameters:\n",
    "        p.grad = None\n",
    "        \n",
    "    # calc gradients\n",
    "    loss.backward()\n",
    "    \n",
    "    # getting lr\n",
    "    lr = lrs[epoch-1]\n",
    "    \n",
    "    # optimize\n",
    "    for p in parameters:\n",
    "        p.data += -lr * p.grad\n",
    "        \n",
    "    if epoch%(epochs//10) == 0:\n",
    "        print(f\"loss at epoch {epoch}:\\t {loss.item()}\")\n",
    "        \n",
    "# --- total loss\n",
    "emb = C[X]\n",
    "h = torch.tanh(emb.view(-1,6) @ W1 + b1)\n",
    "logits = h @ W2 + b2\n",
    "loss = F.cross_entropy(logits, Y)\n",
    "print(\"\\nTotal Loss:\",loss.item())"
   ]
  },
  {
   "cell_type": "code",
   "execution_count": 196,
   "id": "99f4885f",
   "metadata": {},
   "outputs": [
    {
     "data": {
      "text/plain": [
       "[<matplotlib.lines.Line2D at 0x7f316c1f4100>]"
      ]
     },
     "execution_count": 196,
     "metadata": {},
     "output_type": "execute_result"
    },
    {
     "data": {
      "image/png": "[encoded data removed]",
      "text/plain": [
       "<Figure size 432x288 with 1 Axes>"
      ]
     },
     "metadata": {
      "needs_background": "light"
     },
     "output_type": "display_data"
    }
   ],
   "source": [
    "plt.plot(lrs, losses)"
   ]
  },
  {
   "cell_type": "code",
   "execution_count": 195,
   "id": "51bb7e2e",
   "metadata": {
    "scrolled": true
   },
   "outputs": [
    {
     "data": {
      "text/plain": [
       "[<matplotlib.lines.Line2D at 0x7f316c228c40>]"
      ]
     },
     "execution_count": 195,
     "metadata": {},
     "output_type": "execute_result"
    },
    {
     "data": {
      "image/png": "[encoded data removed]",
      "text/plain": [
       "<Figure size 432x288 with 1 Axes>"
      ]
     },
     "metadata": {
      "needs_background": "light"
     },
     "output_type": "display_data"
    }
   ],
   "source": [
    "plt.plot(lr_exp, losses)"
   ]
  },
  {
   "cell_type": "markdown",
   "id": "2f5e75e4",
   "metadata": {},
   "source": [
    "from the above graphs, we notice that the losses explode at some LR value after 10**-1, hence lr=0.1 is pretty decent"
   ]
  },
  {
   "cell_type": "markdown",
   "id": "9af621d2",
   "metadata": {},
   "source": [
    "**Let's train for 30000 epochs with lr decay after 20k and 28k epochs**"
   ]
  },
  {
   "cell_type": "code",
   "execution_count": 201,
   "id": "1cd80ce0",
   "metadata": {},
   "outputs": [
    {
     "name": "stdout",
     "output_type": "stream",
     "text": [
      "loss at epoch 3000:\t 2.386512517929077\n",
      "loss at epoch 6000:\t 2.700740098953247\n",
      "loss at epoch 9000:\t 2.0848026275634766\n",
      "loss at epoch 12000:\t 2.7434353828430176\n",
      "loss at epoch 15000:\t 2.499284267425537\n",
      "loss at epoch 18000:\t 2.666135549545288\n",
      "loss at epoch 21000:\t 2.161632776260376\n",
      "loss at epoch 24000:\t 2.4221625328063965\n",
      "loss at epoch 27000:\t 2.642814874649048\n",
      "loss at epoch 30000:\t 2.2582993507385254\n",
      "\n",
      "Total Loss: 2.3568735122680664\n"
     ]
    }
   ],
   "source": [
    "g = torch.Generator().manual_seed(seed)\n",
    "C = torch.randn((27,2), generator=g)\n",
    "W1 = torch.randn((6,hidden_dim), generator=g)\n",
    "b1 = torch.randn(hidden_dim, generator=g)\n",
    "W2 = torch.randn((hidden_dim,27), generator=g)\n",
    "b2 = torch.randn(27, generator=g)\n",
    "\n",
    "parameters = [C,W1,b1,W2,b2]\n",
    "for p in parameters:\n",
    "    p.requires_grad=True\n",
    "    \n",
    "# ------------\n",
    "\n",
    "epochs = 30000\n",
    "lr = 0.1\n",
    "batch_size = 32\n",
    "losses = []\n",
    "\n",
    "for epoch in range(1,epochs+1):\n",
    "    \n",
    "    # mini-batch creation\n",
    "    ix = torch.randint(0,X.shape[0], (batch_size,))\n",
    "    \n",
    "    # forward pass\n",
    "    \n",
    "    emb = C[X[ix]]\n",
    "    h = torch.tanh(emb.view(-1,6) @ W1 + b1)\n",
    "    logits = h @ W2 + b2\n",
    "    \n",
    "    loss = F.cross_entropy(logits, Y[ix])\n",
    "    losses.append(loss.item())\n",
    "    \n",
    "    for p in parameters:\n",
    "        p.grad = None\n",
    "        \n",
    "    # calc gradients\n",
    "    loss.backward()\n",
    "    \n",
    "    # update lr\n",
    "    if epoch > 20000:\n",
    "        lr = 0.01\n",
    "    elif epoch > 28000:\n",
    "        lr = 0.001\n",
    "    \n",
    "    # optimize\n",
    "    for p in parameters:\n",
    "        p.data += -lr * p.grad\n",
    "        \n",
    "    if epoch%3000 == 0:\n",
    "        print(f\"loss at epoch {epoch}:\\t {loss.item()}\")\n",
    "        \n",
    "# --- total loss\n",
    "emb = C[X]\n",
    "h = torch.tanh(emb.view(-1,6) @ W1 + b1)\n",
    "logits = h @ W2 + b2\n",
    "loss = F.cross_entropy(logits, Y)\n",
    "print(\"\\nTotal Loss:\",loss.item())"
   ]
  },
  {
   "cell_type": "code",
   "execution_count": 204,
   "id": "0b429dea",
   "metadata": {},
   "outputs": [
    {
     "data": {
      "text/plain": [
       "[<matplotlib.lines.Line2D at 0x7f3167f80070>]"
      ]
     },
     "execution_count": 204,
     "metadata": {},
     "output_type": "execute_result"
    },
    {
     "data": {
      "image/png": "[encoded data removed]",
      "text/plain": [
       "<Figure size 432x288 with 1 Axes>"
      ]
     },
     "metadata": {
      "needs_background": "light"
     },
     "output_type": "display_data"
    }
   ],
   "source": [
    "plt.plot(losses)"
   ]
  },
  {
   "cell_type": "markdown",
   "id": "07183b5d",
   "metadata": {},
   "source": [
    "continue 53:26"
   ]
  }
 ],
 "metadata": {
  "kernelspec": {
   "display_name": "Python 3 (ipykernel)",
   "language": "python",
   "name": "python3"
  },
  "language_info": {
   "codemirror_mode": {
    "name": "ipython",
    "version": 3
   },
   "file_extension": ".py",
   "mimetype": "text/x-python",
   "name": "python",
   "nbconvert_exporter": "python",
   "pygments_lexer": "ipython3",
   "version": "3.9.12"
  }
 },
 "nbformat": 4,
 "nbformat_minor": 5
}
