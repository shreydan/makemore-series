{
 "cells": [
  {
   "cell_type": "markdown",
   "id": "c29ca071",
   "metadata": {},
   "source": [
    "# Makemore - MLP\n",
    "Proper Training and Hyperparameter Tuning --- remaining ~30% of the video"
   ]
  },
  {
   "cell_type": "code",
   "execution_count": 11,
   "id": "cd841568",
   "metadata": {},
   "outputs": [],
   "source": [
    "import string\n",
    "import torch\n",
    "import torch.nn.functional as F\n",
    "from sklearn.model_selection import train_test_split\n",
    "import matplotlib.pyplot as plt\n",
    "%matplotlib inline"
   ]
  },
  {
   "cell_type": "code",
   "execution_count": 2,
   "id": "d350e6be",
   "metadata": {},
   "outputs": [],
   "source": [
    "with open('../names.txt') as f:\n",
    "    names = f.read().splitlines()"
   ]
  },
  {
   "cell_type": "code",
   "execution_count": 3,
   "id": "0936946d",
   "metadata": {},
   "outputs": [
    {
     "data": {
      "text/plain": [
       "32033"
      ]
     },
     "execution_count": 3,
     "metadata": {},
     "output_type": "execute_result"
    }
   ],
   "source": [
    "len(names)"
   ]
  },
  {
   "cell_type": "markdown",
   "id": "d4fdf2e8",
   "metadata": {},
   "source": [
    "# Dataset"
   ]
  },
  {
   "cell_type": "code",
   "execution_count": 5,
   "id": "73680c6e",
   "metadata": {},
   "outputs": [
    {
     "name": "stdout",
     "output_type": "stream",
     "text": [
      "{'.': 0, 'a': 1, 'b': 2, 'c': 3, 'd': 4, 'e': 5, 'f': 6, 'g': 7, 'h': 8, 'i': 9, 'j': 10, 'k': 11, 'l': 12, 'm': 13, 'n': 14, 'o': 15, 'p': 16, 'q': 17, 'r': 18, 's': 19, 't': 20, 'u': 21, 'v': 22, 'w': 23, 'x': 24, 'y': 25, 'z': 26} \n",
      "\n",
      "{0: '.', 1: 'a', 2: 'b', 3: 'c', 4: 'd', 5: 'e', 6: 'f', 7: 'g', 8: 'h', 9: 'i', 10: 'j', 11: 'k', 12: 'l', 13: 'm', 14: 'n', 15: 'o', 16: 'p', 17: 'q', 18: 'r', 19: 's', 20: 't', 21: 'u', 22: 'v', 23: 'w', 24: 'x', 25: 'y', 26: 'z'}\n"
     ]
    }
   ],
   "source": [
    "vocab = ['.'] + list(string.ascii_lowercase)\n",
    "s_i = {s:i for i,s in enumerate(vocab)}\n",
    "i_s = {i:s for s,i in s_i.items()}\n",
    "print(s_i,'\\n')\n",
    "print(i_s)"
   ]
  },
  {
   "cell_type": "code",
   "execution_count": 9,
   "id": "1da5975f",
   "metadata": {},
   "outputs": [],
   "source": [
    "def build_dataset(names, block_size=3):\n",
    "    X, Y = [], []\n",
    "    for w in names:\n",
    "        context = [0] * block_size\n",
    "        for ch in w + '.':\n",
    "            ix = s_i[ch]\n",
    "            X.append(context)\n",
    "            Y.append(ix)\n",
    "            context = context[1:] + [ix] # crop and append, like a rolling window\n",
    "\n",
    "    X = torch.tensor(X)\n",
    "    Y = torch.tensor(Y)\n",
    "    print(X.shape, Y.shape)\n",
    "    return X,Y"
   ]
  },
  {
   "cell_type": "markdown",
   "id": "5f1bd2f7",
   "metadata": {},
   "source": [
    "## Train-Val-Test Split\n",
    "\n",
    "as the capacity of neural network grows so does its ability to overfit. Sampling without split, we'll get examples that already exist in the names list.\n",
    "\n",
    "train: 0.8, val: 0.1, test: 0.1"
   ]
  },
  {
   "cell_type": "code",
   "execution_count": 10,
   "id": "2b51205b",
   "metadata": {},
   "outputs": [
    {
     "name": "stdout",
     "output_type": "stream",
     "text": [
      "torch.Size([228146, 3]) torch.Size([228146])\n"
     ]
    }
   ],
   "source": [
    "X, Y = build_dataset(names)"
   ]
  },
  {
   "cell_type": "code",
   "execution_count": 17,
   "id": "0ca2085e",
   "metadata": {},
   "outputs": [],
   "source": [
    "X_train, X_val, Y_train, Y_val = train_test_split(X,Y,test_size=0.2,random_state=42,shuffle=True,stratify=Y)\n",
    "X_val, X_test, Y_val, Y_test = train_test_split(X_val,Y_val, test_size=0.5,random_state=52,shuffle=True,stratify=Y_val)"
   ]
  },
  {
   "cell_type": "code",
   "execution_count": 18,
   "id": "14fa4a07",
   "metadata": {},
   "outputs": [
    {
     "data": {
      "text/plain": [
       "(torch.Size([182516, 3]),\n",
       " torch.Size([182516]),\n",
       " torch.Size([22815, 3]),\n",
       " torch.Size([22815]),\n",
       " torch.Size([22815, 3]),\n",
       " torch.Size([22815]))"
      ]
     },
     "execution_count": 18,
     "metadata": {},
     "output_type": "execute_result"
    }
   ],
   "source": [
    "X_train.shape, Y_train.shape, X_val.shape, Y_val.shape, X_test.shape, Y_test.shape"
   ]
  },
  {
   "cell_type": "markdown",
   "id": "d1c64c82",
   "metadata": {},
   "source": [
    "## Hyperparameters"
   ]
  },
  {
   "cell_type": "code",
   "execution_count": 36,
   "id": "a01c58f5",
   "metadata": {},
   "outputs": [],
   "source": [
    "seed = 2147483647\n",
    "hidden_dim = 100\n",
    "lr = 0.1\n",
    "epochs = 30000\n",
    "batch_size = 32"
   ]
  },
  {
   "cell_type": "markdown",
   "id": "5c763010",
   "metadata": {},
   "source": [
    "## Training on Train Set with LR Decay"
   ]
  },
  {
   "cell_type": "code",
   "execution_count": 37,
   "id": "5ef1ebd5",
   "metadata": {},
   "outputs": [
    {
     "name": "stdout",
     "output_type": "stream",
     "text": [
      "loss at epoch 1000:\t 2.8687257766723633\n",
      "loss at epoch 2000:\t 2.6967010498046875\n",
      "loss at epoch 3000:\t 2.8290207386016846\n",
      "loss at epoch 4000:\t 1.9281483888626099\n",
      "loss at epoch 5000:\t 2.6173160076141357\n",
      "loss at epoch 6000:\t 2.553903341293335\n",
      "loss at epoch 7000:\t 2.3292837142944336\n",
      "loss at epoch 8000:\t 2.0534415245056152\n",
      "loss at epoch 9000:\t 2.6235527992248535\n",
      "loss at epoch 10000:\t 2.0897772312164307\n",
      "loss at epoch 11000:\t 2.2180423736572266\n",
      "loss at epoch 12000:\t 2.501567840576172\n",
      "loss at epoch 13000:\t 2.5771288871765137\n",
      "loss at epoch 14000:\t 2.291813611984253\n",
      "loss at epoch 15000:\t 2.534663200378418\n",
      "loss at epoch 16000:\t 2.402402877807617\n",
      "loss at epoch 17000:\t 2.1816565990448\n",
      "loss at epoch 18000:\t 2.2233901023864746\n",
      "loss at epoch 19000:\t 2.4463062286376953\n",
      "loss at epoch 20000:\t 2.085585832595825\n",
      "loss at epoch 21000:\t 2.4331088066101074\n",
      "loss at epoch 22000:\t 2.275172710418701\n",
      "loss at epoch 23000:\t 2.391052722930908\n",
      "loss at epoch 24000:\t 1.890748143196106\n",
      "loss at epoch 25000:\t 2.6059048175811768\n",
      "loss at epoch 26000:\t 2.3758931159973145\n",
      "loss at epoch 27000:\t 2.157118558883667\n",
      "loss at epoch 28000:\t 2.2948684692382812\n",
      "loss at epoch 29000:\t 2.0820438861846924\n",
      "loss at epoch 30000:\t 1.7365473508834839\n",
      "\n",
      "Train Loss: 2.3559672832489014\n"
     ]
    }
   ],
   "source": [
    "g = torch.Generator().manual_seed(seed)\n",
    "C = torch.randn((27,2), generator=g)\n",
    "W1 = torch.randn((6,hidden_dim), generator=g)\n",
    "b1 = torch.randn(hidden_dim, generator=g)\n",
    "W2 = torch.randn((hidden_dim,27), generator=g)\n",
    "b2 = torch.randn(27, generator=g)\n",
    "\n",
    "parameters = [C,W1,b1,W2,b2]\n",
    "for p in parameters:\n",
    "    p.requires_grad=True\n",
    "    \n",
    "# ------------\n",
    "losses = []\n",
    "\n",
    "for epoch in range(1,epochs+1):\n",
    "    \n",
    "    # mini-batch creation\n",
    "    ix = torch.randint(0,X_train.shape[0], (batch_size,))\n",
    "    \n",
    "    # forward pass\n",
    "    \n",
    "    emb = C[X_train[ix]]\n",
    "    h = torch.tanh(emb.view(-1,6) @ W1 + b1)\n",
    "    logits = h @ W2 + b2\n",
    "    \n",
    "    loss = F.cross_entropy(logits, Y_train[ix])\n",
    "    losses.append(loss.item())\n",
    "    \n",
    "    for p in parameters:\n",
    "        p.grad = None\n",
    "        \n",
    "    # calc gradients\n",
    "    loss.backward()\n",
    "    \n",
    "    # lr decay\n",
    "    if epoch > 20000:\n",
    "        lr = 0.01\n",
    "    elif epoch > 28000:\n",
    "        lr = 0.001\n",
    "    \n",
    "    # optimize\n",
    "    for p in parameters:\n",
    "        p.data += -lr * p.grad\n",
    "        \n",
    "    if epoch%1000 == 0:\n",
    "        print(f\"loss at epoch {epoch}:\\t {loss.item()}\")\n",
    "        \n",
    "# --- Train loss\n",
    "emb = C[X_train]\n",
    "h = torch.tanh(emb.view(-1,6) @ W1 + b1)\n",
    "logits = h @ W2 + b2\n",
    "loss = F.cross_entropy(logits, Y_train)\n",
    "print(\"\\nTrain Loss:\",loss.item())"
   ]
  },
  {
   "cell_type": "markdown",
   "id": "f17b70a6",
   "metadata": {},
   "source": [
    "### Validation Loss\n",
    "\n",
    "train loss ~= val loss --- so not overfitting"
   ]
  },
  {
   "cell_type": "code",
   "execution_count": 38,
   "id": "f3876fd1",
   "metadata": {},
   "outputs": [
    {
     "name": "stdout",
     "output_type": "stream",
     "text": [
      "\n",
      "Validation Loss: 2.3646342754364014\n"
     ]
    }
   ],
   "source": [
    "# --- Validation loss\n",
    "emb = C[X_val]\n",
    "h = torch.tanh(emb.view(-1,6) @ W1 + b1)\n",
    "logits = h @ W2 + b2\n",
    "loss = F.cross_entropy(logits, Y_val)\n",
    "print(\"\\nValidation Loss:\",loss.item())"
   ]
  },
  {
   "cell_type": "code",
   "execution_count": 40,
   "id": "c1fec0da",
   "metadata": {},
   "outputs": [
    {
     "data": {
      "text/plain": [
       "[<matplotlib.lines.Line2D at 0x7f98f957d970>]"
      ]
     },
     "execution_count": 40,
     "metadata": {},
     "output_type": "execute_result"
    },
    {
     "data": {
      "image/png": "[encoded data removed]",
      "text/plain": [
       "<Figure size 432x288 with 1 Axes>"
      ]
     },
     "metadata": {
      "needs_background": "light"
     },
     "output_type": "display_data"
    }
   ],
   "source": [
    "plt.plot(losses)"
   ]
  },
  {
   "cell_type": "markdown",
   "id": "48cae5a3",
   "metadata": {},
   "source": [
    "___\n",
    "\n",
    "**Let's try different set of hyperparameters**"
   ]
  },
  {
   "cell_type": "code",
   "execution_count": 78,
   "id": "8f6f8d8a",
   "metadata": {},
   "outputs": [],
   "source": [
    "seed = 2147483647\n",
    "hidden_dim = 512\n",
    "lr = 0.1\n",
    "epochs = 60000\n",
    "batch_size = 64"
   ]
  },
  {
   "cell_type": "code",
   "execution_count": 79,
   "id": "d0d7ce29",
   "metadata": {},
   "outputs": [
    {
     "name": "stdout",
     "output_type": "stream",
     "text": [
      "loss at epoch 3000:\t 3.1720545291900635\n",
      "loss at epoch 6000:\t 3.154723882675171\n",
      "loss at epoch 9000:\t 2.816204786300659\n",
      "loss at epoch 12000:\t 2.308276653289795\n",
      "loss at epoch 15000:\t 2.7432219982147217\n",
      "loss at epoch 18000:\t 2.313694715499878\n",
      "loss at epoch 21000:\t 2.6692440509796143\n",
      "loss at epoch 24000:\t 2.4976541996002197\n",
      "loss at epoch 27000:\t 2.896728515625\n",
      "loss at epoch 30000:\t 2.445673942565918\n",
      "loss at epoch 33000:\t 2.3393900394439697\n",
      "loss at epoch 36000:\t 2.427089214324951\n",
      "loss at epoch 39000:\t 2.507333278656006\n",
      "loss at epoch 42000:\t 2.2799088954925537\n",
      "loss at epoch 45000:\t 2.228731632232666\n",
      "loss at epoch 48000:\t 2.6496269702911377\n",
      "loss at epoch 51000:\t 2.1162164211273193\n",
      "loss at epoch 54000:\t 2.33583927154541\n",
      "loss at epoch 57000:\t 2.1414384841918945\n",
      "loss at epoch 60000:\t 2.239851713180542\n",
      "\n",
      "Train Loss: 2.24766206741333\n"
     ]
    }
   ],
   "source": [
    "g = torch.Generator().manual_seed(seed)\n",
    "C = torch.randn((27,2), generator=g)\n",
    "W1 = torch.randn((6,hidden_dim), generator=g)\n",
    "b1 = torch.randn(hidden_dim, generator=g)\n",
    "W2 = torch.randn((hidden_dim,27), generator=g)\n",
    "b2 = torch.randn(27, generator=g)\n",
    "\n",
    "parameters = [C,W1,b1,W2,b2]\n",
    "for p in parameters:\n",
    "    p.requires_grad=True\n",
    "    \n",
    "# ------------\n",
    "losses = []\n",
    "\n",
    "for epoch in range(1,epochs+1):\n",
    "    \n",
    "    # mini-batch creation\n",
    "    ix = torch.randint(0,X_train.shape[0], (batch_size,))\n",
    "    \n",
    "    # forward pass\n",
    "    \n",
    "    emb = C[X_train[ix]]\n",
    "    h = torch.tanh(emb.view(-1,6) @ W1 + b1)\n",
    "    logits = h @ W2 + b2\n",
    "    \n",
    "    loss = F.cross_entropy(logits, Y_train[ix])\n",
    "    losses.append(loss.item())\n",
    "    \n",
    "    for p in parameters:\n",
    "        p.grad = None\n",
    "        \n",
    "    # calc gradients\n",
    "    loss.backward()\n",
    "    \n",
    "    # lr decay\n",
    "    if epoch > 45000:\n",
    "        lr = 0.01\n",
    "    elif epoch > 58000:\n",
    "        lr = 0.001\n",
    "    \n",
    "    # optimize\n",
    "    for p in parameters:\n",
    "        p.data += -lr * p.grad\n",
    "        \n",
    "    if epoch%3000 == 0:\n",
    "        print(f\"loss at epoch {epoch}:\\t {loss.item()}\")\n",
    "        \n",
    "# --- Train loss\n",
    "emb = C[X_train]\n",
    "h = torch.tanh(emb.view(-1,6) @ W1 + b1)\n",
    "logits = h @ W2 + b2\n",
    "loss = F.cross_entropy(logits, Y_train)\n",
    "print(\"\\nTrain Loss:\",loss.item())"
   ]
  },
  {
   "cell_type": "code",
   "execution_count": 80,
   "id": "f00e540a",
   "metadata": {},
   "outputs": [
    {
     "name": "stdout",
     "output_type": "stream",
     "text": [
      "\n",
      "Validation Loss: 2.262108325958252\n",
      "\n",
      "Test Loss: 2.257904052734375\n"
     ]
    }
   ],
   "source": [
    "# --- Validation loss\n",
    "emb = C[X_val]\n",
    "h = torch.tanh(emb.view(-1,6) @ W1 + b1)\n",
    "logits = h @ W2 + b2\n",
    "loss = F.cross_entropy(logits, Y_val)\n",
    "print(\"\\nValidation Loss:\",loss.item())\n",
    "\n",
    "# --- Test loss\n",
    "emb = C[X_test]\n",
    "h = torch.tanh(emb.view(-1,6) @ W1 + b1)\n",
    "logits = h @ W2 + b2\n",
    "loss = F.cross_entropy(logits, Y_test)\n",
    "print(\"\\nTest Loss:\",loss.item())"
   ]
  },
  {
   "cell_type": "code",
   "execution_count": 81,
   "id": "6bc75101",
   "metadata": {},
   "outputs": [
    {
     "data": {
      "text/plain": [
       "[<matplotlib.lines.Line2D at 0x7f98ecbc8760>]"
      ]
     },
     "execution_count": 81,
     "metadata": {},
     "output_type": "execute_result"
    },
    {
     "data": {
      "image/png": "[encoded data removed]",
      "text/plain": [
       "<Figure size 432x288 with 1 Axes>"
      ]
     },
     "metadata": {
      "needs_background": "light"
     },
     "output_type": "display_data"
    }
   ],
   "source": [
    "plt.plot(losses)"
   ]
  },
  {
   "cell_type": "markdown",
   "id": "a11e0bcc",
   "metadata": {},
   "source": [
    "## Visualizing the Embedding Space\n",
    "\n",
    "look how a,e,i,o,u are so near, so cute :')"
   ]
  },
  {
   "cell_type": "code",
   "execution_count": 82,
   "id": "333e03e1",
   "metadata": {},
   "outputs": [
    {
     "data": {
      "image/png": "[encoded data removed]",
      "text/plain": [
       "<Figure size 576x576 with 1 Axes>"
      ]
     },
     "metadata": {
      "needs_background": "light"
     },
     "output_type": "display_data"
    }
   ],
   "source": [
    "plt.figure(figsize=(8,8))\n",
    "plt.scatter(C[:,0].data, C[:,1].data, s=200)\n",
    "for i in range(C.shape[0]):\n",
    "    plt.text(C[i,0].item(),C[i,1].item(),i_s[i], ha='center', va='center', color='white')\n",
    "plt.grid('minor')"
   ]
  },
  {
   "cell_type": "markdown",
   "id": "2ffdfe21",
   "metadata": {},
   "source": [
    "**Let's try changing the embedding size**"
   ]
  },
  {
   "cell_type": "code",
   "execution_count": 91,
   "id": "3bb443fc",
   "metadata": {},
   "outputs": [],
   "source": [
    "seed = 2147483647\n",
    "hidden_dim = 200\n",
    "lr = 0.1\n",
    "epochs = 100000\n",
    "batch_size = 32"
   ]
  },
  {
   "cell_type": "code",
   "execution_count": 92,
   "id": "5df38053",
   "metadata": {},
   "outputs": [
    {
     "name": "stdout",
     "output_type": "stream",
     "text": [
      "loss at epoch 10000:\t 3.249988555908203\n",
      "loss at epoch 20000:\t 2.410412549972534\n",
      "loss at epoch 30000:\t 2.908151149749756\n",
      "loss at epoch 40000:\t 2.775571584701538\n",
      "loss at epoch 50000:\t 2.641909599304199\n",
      "loss at epoch 60000:\t 2.2548651695251465\n",
      "loss at epoch 70000:\t 2.461887836456299\n",
      "loss at epoch 80000:\t 2.193615436553955\n",
      "loss at epoch 90000:\t 2.4230637550354004\n",
      "loss at epoch 100000:\t 1.8943843841552734\n",
      "\n",
      "Train Loss: 2.227808713912964\n"
     ]
    }
   ],
   "source": [
    "g = torch.Generator().manual_seed(seed)\n",
    "C = torch.randn((27,5), generator=g)\n",
    "W1 = torch.randn((3*5,hidden_dim), generator=g)\n",
    "b1 = torch.randn(hidden_dim, generator=g)\n",
    "W2 = torch.randn((hidden_dim,27), generator=g)\n",
    "b2 = torch.randn(27, generator=g)\n",
    "\n",
    "parameters = [C,W1,b1,W2,b2]\n",
    "for p in parameters:\n",
    "    p.requires_grad=True\n",
    "    \n",
    "# ------------\n",
    "log_losses = []\n",
    "\n",
    "for epoch in range(1,epochs+1):\n",
    "    \n",
    "    # mini-batch creation\n",
    "    ix = torch.randint(0,X_train.shape[0], (batch_size,))\n",
    "    \n",
    "    # forward pass\n",
    "    \n",
    "    emb = C[X_train[ix]]\n",
    "    h = torch.tanh(emb.view(-1,3*5) @ W1 + b1)\n",
    "    logits = h @ W2 + b2\n",
    "    \n",
    "    loss = F.cross_entropy(logits, Y_train[ix])\n",
    "    log_losses.append(loss.log10().item())\n",
    "    \n",
    "    for p in parameters:\n",
    "        p.grad = None\n",
    "        \n",
    "    # calc gradients\n",
    "    loss.backward()\n",
    "    \n",
    "    if epoch > 50000:\n",
    "        lr = 0.01\n",
    "    \n",
    "    # optimize\n",
    "    for p in parameters:\n",
    "        p.data += -lr * p.grad\n",
    "        \n",
    "    if epoch%(epochs//10) == 0:\n",
    "        print(f\"loss at epoch {epoch}:\\t {loss.item()}\")\n",
    "        \n",
    "# --- Train loss\n",
    "emb = C[X_train]\n",
    "h = torch.tanh(emb.view(-1,3*5) @ W1 + b1)\n",
    "logits = h @ W2 + b2\n",
    "loss = F.cross_entropy(logits, Y_train)\n",
    "print(\"\\nTrain Loss:\",loss.item())"
   ]
  },
  {
   "cell_type": "code",
   "execution_count": 93,
   "id": "6f8232a2",
   "metadata": {
    "scrolled": true
   },
   "outputs": [
    {
     "name": "stdout",
     "output_type": "stream",
     "text": [
      "\n",
      "Validation Loss: 2.2535226345062256\n",
      "\n",
      "Test Loss: 2.2433764934539795\n"
     ]
    }
   ],
   "source": [
    "# --- Validation loss\n",
    "emb = C[X_val]\n",
    "h = torch.tanh(emb.view(-1,3*5) @ W1 + b1)\n",
    "logits = h @ W2 + b2\n",
    "loss = F.cross_entropy(logits, Y_val)\n",
    "print(\"\\nValidation Loss:\",loss.item())\n",
    "\n",
    "# --- Test loss\n",
    "emb = C[X_test]\n",
    "h = torch.tanh(emb.view(-1,3*5) @ W1 + b1)\n",
    "logits = h @ W2 + b2\n",
    "loss = F.cross_entropy(logits, Y_test)\n",
    "print(\"\\nTest Loss:\",loss.item())"
   ]
  },
  {
   "cell_type": "code",
   "execution_count": 94,
   "id": "42be9278",
   "metadata": {},
   "outputs": [
    {
     "data": {
      "text/plain": [
       "[<matplotlib.lines.Line2D at 0x7f98ef229b50>]"
      ]
     },
     "execution_count": 94,
     "metadata": {},
     "output_type": "execute_result"
    },
    {
     "data": {
      "image/png": "[encoded data removed]",
      "text/plain": [
       "<Figure size 432x288 with 1 Axes>"
      ]
     },
     "metadata": {
      "needs_background": "light"
     },
     "output_type": "display_data"
    }
   ],
   "source": [
    "plt.plot(log_losses)"
   ]
  },
  {
   "cell_type": "markdown",
   "id": "dc31d955",
   "metadata": {},
   "source": [
    "## A Complete New Set of Hyperparameters"
   ]
  },
  {
   "cell_type": "code",
   "execution_count": 159,
   "id": "4c2d5038",
   "metadata": {},
   "outputs": [],
   "source": [
    "seed = 42\n",
    "hidden_dim = 512\n",
    "lr = 0.1\n",
    "epochs = 100000\n",
    "batch_size = 64\n",
    "emb_dim = 5\n",
    "block_size = 4"
   ]
  },
  {
   "cell_type": "code",
   "execution_count": 160,
   "id": "f4ba8187",
   "metadata": {},
   "outputs": [
    {
     "name": "stdout",
     "output_type": "stream",
     "text": [
      "torch.Size([228146, 4]) torch.Size([228146])\n"
     ]
    }
   ],
   "source": [
    "def build_dataset(names, block_size=3):\n",
    "    X, Y = [], []\n",
    "    for w in names:\n",
    "        context = [0] * block_size\n",
    "        for ch in w + '.':\n",
    "            ix = s_i[ch]\n",
    "            X.append(context)\n",
    "            Y.append(ix)\n",
    "            context = context[1:] + [ix] # crop and append, like a rolling window\n",
    "\n",
    "    X = torch.tensor(X)\n",
    "    Y = torch.tensor(Y)\n",
    "    print(X.shape, Y.shape)\n",
    "    return X,Y\n",
    "\n",
    "X,Y = build_dataset(names, block_size=block_size)"
   ]
  },
  {
   "cell_type": "code",
   "execution_count": 161,
   "id": "9343812a",
   "metadata": {},
   "outputs": [],
   "source": [
    "X_train, X_val, Y_train, Y_val = train_test_split(X,Y,test_size=0.2,random_state=42,shuffle=True,stratify=Y)\n",
    "X_val, X_test, Y_val, Y_test = train_test_split(X_val,Y_val, test_size=0.5,random_state=52,shuffle=True,stratify=Y_val)"
   ]
  },
  {
   "cell_type": "code",
   "execution_count": 162,
   "id": "09244d20",
   "metadata": {},
   "outputs": [
    {
     "data": {
      "text/plain": [
       "(torch.Size([182516, 4]),\n",
       " torch.Size([182516]),\n",
       " torch.Size([22815, 4]),\n",
       " torch.Size([22815]),\n",
       " torch.Size([22815, 4]),\n",
       " torch.Size([22815]))"
      ]
     },
     "execution_count": 162,
     "metadata": {},
     "output_type": "execute_result"
    }
   ],
   "source": [
    "X_train.shape, Y_train.shape, X_val.shape, Y_val.shape, X_test.shape, Y_test.shape"
   ]
  },
  {
   "cell_type": "code",
   "execution_count": 163,
   "id": "a0f1654a",
   "metadata": {},
   "outputs": [
    {
     "name": "stdout",
     "output_type": "stream",
     "text": [
      "train loss at epoch 10000:\t 2.8756866455078125\n",
      "train loss at epoch 20000:\t 2.8677737712860107\n",
      "------------------------------\n",
      "val loss at epoch 20000:\t 2.6698057651519775\n",
      "------------------------------\n",
      "train loss at epoch 30000:\t 3.0521044731140137\n",
      "train loss at epoch 40000:\t 2.462635040283203\n",
      "------------------------------\n",
      "val loss at epoch 40000:\t 2.638075351715088\n",
      "------------------------------\n",
      "train loss at epoch 50000:\t 2.5693414211273193\n",
      "train loss at epoch 60000:\t 2.340513229370117\n",
      "------------------------------\n",
      "val loss at epoch 60000:\t 2.4111552238464355\n",
      "------------------------------\n",
      "train loss at epoch 70000:\t 2.303117275238037\n",
      "train loss at epoch 80000:\t 2.224220037460327\n",
      "------------------------------\n",
      "val loss at epoch 80000:\t 2.1918106079101562\n",
      "------------------------------\n",
      "train loss at epoch 90000:\t 2.22503399848938\n",
      "train loss at epoch 100000:\t 2.1953420639038086\n",
      "------------------------------\n",
      "val loss at epoch 100000:\t 2.1897482872009277\n",
      "------------------------------\n",
      "\n",
      "Train Loss: 2.1590754985809326\n"
     ]
    }
   ],
   "source": [
    "g = torch.Generator().manual_seed(seed)\n",
    "C = torch.randn((27,emb_dim), generator=g)\n",
    "W1 = torch.randn((block_size*emb_dim,hidden_dim), generator=g)\n",
    "b1 = torch.randn(hidden_dim, generator=g)\n",
    "W2 = torch.randn((hidden_dim,27), generator=g)\n",
    "b2 = torch.randn(27, generator=g)\n",
    "\n",
    "parameters = [C,W1,b1,W2,b2]\n",
    "for p in parameters:\n",
    "    p.requires_grad=True\n",
    "    \n",
    "# ------------\n",
    "log_train_losses = []\n",
    "log_val_losses = []\n",
    "\n",
    "for epoch in range(1,epochs+1):\n",
    "    \n",
    "    # mini-batch creation\n",
    "    ix = torch.randint(0,X_train.shape[0], (batch_size,))\n",
    "    \n",
    "    # forward pass\n",
    "    \n",
    "    emb = C[X_train[ix]]\n",
    "    h = torch.tanh(emb.view(-1,block_size*emb_dim) @ W1 + b1)\n",
    "    logits = h @ W2 + b2\n",
    "    \n",
    "    loss = F.cross_entropy(logits, Y_train[ix])\n",
    "    log_train_losses.append(loss.log10().item())\n",
    "    \n",
    "    for p in parameters:\n",
    "        p.grad = None\n",
    "        \n",
    "    # calc gradients\n",
    "    loss.backward()\n",
    "    \n",
    "    if epoch > 60000:\n",
    "        lr = 0.01\n",
    "    elif epoch > 90000:\n",
    "        lr = 0.001\n",
    "    \n",
    "    # optimize\n",
    "    for p in parameters:\n",
    "        p.data += -lr * p.grad\n",
    "        \n",
    "    if epoch%(epochs//10) == 0:\n",
    "        print(f\"train loss at epoch {epoch}:\\t {loss.item()}\")\n",
    "        \n",
    "    if epoch%(epochs//5) == 0:\n",
    "        with torch.no_grad():\n",
    "            print('-'*30)\n",
    "            emb = C[X_val]\n",
    "            h = torch.tanh(emb.view(-1,block_size*emb_dim) @ W1 + b1)\n",
    "            logits = h @ W2 + b2\n",
    "            loss = F.cross_entropy(logits, Y_val)\n",
    "            print(f\"val loss at epoch {epoch}:\\t {loss.item()}\\n{'-'*30}\")\n",
    "            log_val_losses.append(loss.log10().item())\n",
    "            \n",
    "        \n",
    "        \n",
    "# --- Train loss\n",
    "emb = C[X_train]\n",
    "h = torch.tanh(emb.view(-1,block_size*emb_dim) @ W1 + b1)\n",
    "logits = h @ W2 + b2\n",
    "loss = F.cross_entropy(logits, Y_train)\n",
    "print(\"\\nTrain Loss:\",loss.item())"
   ]
  },
  {
   "cell_type": "code",
   "execution_count": 164,
   "id": "0980fcc5",
   "metadata": {},
   "outputs": [
    {
     "name": "stdout",
     "output_type": "stream",
     "text": [
      "\n",
      "Test Loss: 2.179365396499634\n"
     ]
    }
   ],
   "source": [
    "# --- Test loss\n",
    "emb = C[X_test]\n",
    "h = torch.tanh(emb.view(-1,block_size*emb_dim) @ W1 + b1)\n",
    "logits = h @ W2 + b2\n",
    "loss = F.cross_entropy(logits, Y_test)\n",
    "print(\"\\nTest Loss:\",loss.item())"
   ]
  },
  {
   "cell_type": "markdown",
   "id": "df3c5723",
   "metadata": {},
   "source": [
    "**this improves on Andrej's Loss of around 2.18**"
   ]
  },
  {
   "cell_type": "code",
   "execution_count": 165,
   "id": "be446d38",
   "metadata": {},
   "outputs": [
    {
     "data": {
      "text/plain": [
       "[<matplotlib.lines.Line2D at 0x7f98ef8bce20>]"
      ]
     },
     "execution_count": 165,
     "metadata": {},
     "output_type": "execute_result"
    },
    {
     "data": {
      "image/png": "[encoded data removed]",
      "text/plain": [
       "<Figure size 432x288 with 1 Axes>"
      ]
     },
     "metadata": {
      "needs_background": "light"
     },
     "output_type": "display_data"
    }
   ],
   "source": [
    "plt.plot(log_train_losses)"
   ]
  },
  {
   "cell_type": "code",
   "execution_count": 166,
   "id": "05a3f789",
   "metadata": {},
   "outputs": [
    {
     "data": {
      "text/plain": [
       "[<matplotlib.lines.Line2D at 0x7f98ee992550>]"
      ]
     },
     "execution_count": 166,
     "metadata": {},
     "output_type": "execute_result"
    },
    {
     "data": {
      "image/png": "[encoded data removed]",
      "text/plain": [
       "<Figure size 432x288 with 1 Axes>"
      ]
     },
     "metadata": {
      "needs_background": "light"
     },
     "output_type": "display_data"
    }
   ],
   "source": [
    "plt.plot(log_val_losses, color='green')"
   ]
  },
  {
   "cell_type": "markdown",
   "id": "c9bc1a70",
   "metadata": {},
   "source": [
    "___\n",
    "\n",
    "## Sampling!"
   ]
  },
  {
   "cell_type": "code",
   "execution_count": 167,
   "id": "c42c1927",
   "metadata": {},
   "outputs": [
    {
     "name": "stdout",
     "output_type": "stream",
     "text": [
      "anukeen.\n",
      "tis.\n",
      "marian.\n",
      "danmella.\n",
      "silai.\n",
      "darossan.\n",
      "luvan.\n",
      "epiace.\n",
      "denneszi.\n",
      "kerce.\n",
      "joreigh.\n",
      "dela.\n",
      "mikhlyn.\n",
      "adhvisin.\n",
      "achallvi.\n",
      "karcel.\n",
      "jayma.\n",
      "jach.\n",
      "selari.\n",
      "davon.\n",
      "artur.\n",
      "nacra.\n",
      "reylynn.\n",
      "mika.\n",
      "jirah.\n"
     ]
    }
   ],
   "source": [
    "g = torch.Generator().manual_seed(42)\n",
    "\n",
    "for _ in range(25):\n",
    "    \n",
    "    name = ''\n",
    "    context = [0] * block_size\n",
    "    while True:\n",
    "        emb = C[torch.tensor([context])]\n",
    "        h = torch.tanh(emb.view(1,-1) @ W1 + b1)\n",
    "        logits = h @ W2 + b2\n",
    "        probs = F.softmax(logits,dim=1)\n",
    "        ix = torch.multinomial(probs, num_samples=1,generator=g).item()\n",
    "        context = context[1:] + [ix]\n",
    "        name += i_s[ix]\n",
    "        if ix == 0:\n",
    "            break\n",
    "            \n",
    "    print(name)"
   ]
  },
  {
   "cell_type": "markdown",
   "id": "b55f7c5a",
   "metadata": {},
   "source": [
    "as you can see, much better than our bigrams model :) \n",
    "\n",
    "## All credits to Andrej Karpathy for this! He's amazing :)"
   ]
  }
 ],
 "metadata": {
  "kernelspec": {
   "display_name": "Python 3 (ipykernel)",
   "language": "python",
   "name": "python3"
  },
  "language_info": {
   "codemirror_mode": {
    "name": "ipython",
    "version": 3
   },
   "file_extension": ".py",
   "mimetype": "text/x-python",
   "name": "python",
   "nbconvert_exporter": "python",
   "pygments_lexer": "ipython3",
   "version": "3.9.12"
  }
 },
 "nbformat": 4,
 "nbformat_minor": 5
}
